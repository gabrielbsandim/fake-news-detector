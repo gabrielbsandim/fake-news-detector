{
  "nbformat": 4,
  "nbformat_minor": 0,
  "metadata": {
    "colab": {
      "provenance": [],
      "authorship_tag": "ABX9TyNM7ZjJ3UKEBo9ZJ/MSsXl6",
      "include_colab_link": true
    },
    "kernelspec": {
      "name": "python3",
      "display_name": "Python 3"
    },
    "language_info": {
      "name": "python"
    }
  },
  "cells": [
    {
      "cell_type": "markdown",
      "metadata": {
        "id": "view-in-github",
        "colab_type": "text"
      },
      "source": [
        "<a href=\"https://colab.research.google.com/github/gabrielbsandim/fake-news-detector/blob/main/fake_news_detector.ipynb\" target=\"_parent\"><img src=\"https://colab.research.google.com/assets/colab-badge.svg\" alt=\"Open In Colab\"/></a>"
      ]
    },
    {
      "cell_type": "code",
      "execution_count": null,
      "metadata": {
        "id": "C1195fjoE8Yw"
      },
      "outputs": [],
      "source": [
        "from typing import Text\n",
        "import google.generativeai as genai\n",
        "from google.colab import userdata\n",
        "\n",
        "genai.configure(api_key=userdata.get('API_KEY'))\n",
        "\n",
        "model_name = 'gemini-1.5-pro-latest'\n",
        "\n",
        "generation_config = {\n",
        "  \"candidate_count\": 1,\n",
        "  \"temperature\": 0.5,\n",
        "}\n",
        "\n",
        "system_instruction = system_instruction = \"\"\"\n",
        "You are a highly accurate and reliable fake news detector. Your task is to carefully analyze each text and determine whether it contains false or misleading information.\n",
        "\n",
        "Yor response should be in the same language as the question.\n",
        "\n",
        "You should initially say whether it is Fake News or not and make a brief comment on the result.\n",
        "\n",
        "If the news is inaccurate, with less than 20 words, no dates and/or sources for example, reply saying that you need more information, a more complete report.\n",
        "\n",
        "example for inaccurate or out of scope news in portuguese:\n",
        "\n",
        "question: Santos foi campeão brasileiro ds 2025\n",
        "reply: Parece que essa notícia está imprecisa ou necessita ser mais detalhada.\n",
        "\"\"\"\n",
        "\n",
        "model = genai.GenerativeModel(model_name=model_name,\n",
        "                                  generation_config=generation_config,\n",
        "                                  system_instruction=system_instruction,)\n",
        "\n",
        "print('-------------------------')\n",
        "print('      Testing...')\n",
        "print('-------------------------\\n\\n')\n",
        "\n",
        "chat = model.start_chat(history=[])\n",
        "\n",
        "while True:\n",
        "  print('Paste the text here:\\n')\n",
        "  prompt = input()\n",
        "\n",
        "  if prompt == 'finish':\n",
        "    break\n",
        "\n",
        "  response = chat.send_message(prompt)\n",
        "\n",
        "  print('\\nResult:\\n')\n",
        "  print(response.text)\n",
        "  print('\\n-------------------------\\n')\n"
      ]
    }
  ]
}